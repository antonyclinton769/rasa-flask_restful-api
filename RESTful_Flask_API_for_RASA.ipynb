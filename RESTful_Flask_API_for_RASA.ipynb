{
  "nbformat": 4,
  "nbformat_minor": 0,
  "metadata": {
    "colab": {
      "name": "RESTful Flask API for RASA.ipynb",
      "provenance": [],
      "collapsed_sections": [],
      "include_colab_link": true
    },
    "kernelspec": {
      "name": "python3",
      "display_name": "Python 3"
    },
    "language_info": {
      "name": "python"
    },
    "accelerator": "TPU"
  },
  "cells": [
    {
      "cell_type": "markdown",
      "metadata": {
        "id": "view-in-github",
        "colab_type": "text"
      },
      "source": [
        "<a href=\"https://colab.research.google.com/github/antonyclinton769/final-year-project/blob/main/RESTful_Flask_API_for_RASA.ipynb\" target=\"_parent\"><img src=\"https://colab.research.google.com/assets/colab-badge.svg\" alt=\"Open In Colab\"/></a>"
      ]
    },
    {
      "cell_type": "code",
      "metadata": {
        "id": "5y2UaWlpzNW0"
      },
      "source": [
        "#Downloading the stable build of ngrok\n",
        "!wget https://bin.equinox.io/c/4VmDzA7iaHb/ngrok-stable-linux-amd64.zip"
      ],
      "execution_count": null,
      "outputs": []
    },
    {
      "cell_type": "code",
      "metadata": {
        "id": "x42LpOeSU8A_",
        "colab": {
          "base_uri": "https://localhost:8080/"
        },
        "outputId": "0f31fbd5-0cd0-4cc8-fecb-3003484288d1"
      },
      "source": [
        "#Unzipping the downloaded stable build of ngrok\n",
        "!unzip -o ngrok-stable-linux-amd64.zip"
      ],
      "execution_count": null,
      "outputs": [
        {
          "output_type": "stream",
          "text": [
            "Archive:  ngrok-stable-linux-amd64.zip\n",
            "  inflating: ngrok                   \n"
          ],
          "name": "stdout"
        }
      ]
    },
    {
      "cell_type": "code",
      "metadata": {
        "id": "RREfj-7bVw15"
      },
      "source": [
        "#Installing flask and flask_restful\n",
        "!pip install flask\n",
        "!pip install flask_restful"
      ],
      "execution_count": null,
      "outputs": []
    },
    {
      "cell_type": "code",
      "metadata": {
        "id": "0ligc6u3Cekm"
      },
      "source": [
        "# To serve using production environment instead of development. (To remove the development environment warning)\n",
        "!pip install waitress"
      ],
      "execution_count": null,
      "outputs": []
    },
    {
      "cell_type": "code",
      "metadata": {
        "id": "HwXndSrnVPhO"
      },
      "source": [
        "!pip install -U flask-cors\n",
        "!pip install requests"
      ],
      "execution_count": null,
      "outputs": []
    },
    {
      "cell_type": "code",
      "metadata": {
        "id": "gfQMoxeDV4V5"
      },
      "source": [
        "\n",
        "# To run ngrok tunnel as a background process\n",
        "get_ipython().system_raw('./ngrok http 5000 &')"
      ],
      "execution_count": null,
      "outputs": []
    },
    {
      "cell_type": "code",
      "metadata": {
        "colab": {
          "base_uri": "https://localhost:8080/"
        },
        "id": "RHy3MO-6V4fE",
        "outputId": "f2afa27e-3347-44cf-a923-f87a2fbfae09"
      },
      "source": [
        "\n",
        "# To get the public URL of the current ngrok instance\n",
        "! curl -s http://localhost:4040/api/tunnels | python3 -c \\\n",
        "    \"import sys, json; print(json.load(sys.stdin)['tunnels'][0]['public_url'])\""
      ],
      "execution_count": null,
      "outputs": [
        {
          "output_type": "stream",
          "text": [
            "https://a923986d86c2.ngrok.io\n"
          ],
          "name": "stdout"
        }
      ]
    },
    {
      "cell_type": "code",
      "metadata": {
        "id": "TaJDua5KDAsr"
      },
      "source": [
        "#@title Tunnelling URLs\n",
        "website_url = \"\" #@param {type:\"string\"}\n",
        "\n",
        "RASAserver_url = \"\" #@param {type:\"string\"}\n",
        "\n"
      ],
      "execution_count": null,
      "outputs": []
    },
    {
      "cell_type": "code",
      "metadata": {
        "id": "KSfcKEmjV1Xk"
      },
      "source": [
        "\n",
        "#To expose the REST API using Flask\n",
        "from flask import Flask, request\n",
        "\n",
        "#To support CORS request\n",
        "from flask_cors import CORS, cross_origin\n",
        "\n",
        "#To represent an abstract RESTful resource & create API entry point\n",
        "from flask_restful import Resource, Api  \n",
        "\n",
        "#To serve using production environment\n",
        "from waitress import serve\n",
        "\n",
        "#To work with JSON data\n",
        "import json\n",
        "\n",
        "import requests\n",
        "\n",
        "app = Flask(__name__)\n",
        "app.config['CORS_HEADERS'] = 'Content-Type'\n",
        "\n",
        "cors = CORS(app, resources={r\"/requests\": {\"origins\": website_url}})\n",
        "\n",
        "@app.route('/requests', methods=['POST'])\n",
        "@cross_origin(origin=website_url,headers=['Content-Type'])\n",
        "def foo():\n",
        "    cquery = request.json['message']\n",
        "    #working checkpoint start\n",
        "    #return {\"requests\":cquery}\n",
        "    # working checkpoint end\n",
        "    param = {\"message\": cquery}\n",
        "    x = requests.post(RASAserver_url+\"/webhooks/rest/webhook\", json=param).text\n",
        "    breply = json.loads(x)[0]['text']\n",
        "    print(breply)\n",
        "    return {\"requests\":breply}\n",
        "\n",
        "#Launch the Flask API at port 5000\n",
        "if __name__ == '__main__':\n",
        "    serve(app, host=\"0.0.0.0\", port=5000)"
      ],
      "execution_count": null,
      "outputs": []
    }
  ]
}