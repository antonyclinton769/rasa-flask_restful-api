{
  "nbformat": 4,
  "nbformat_minor": 0,
  "metadata": {
    "colab": {
      "name": "RASA RESTful API.ipynb",
      "provenance": [],
      "collapsed_sections": [],
      "include_colab_link": true
    },
    "kernelspec": {
      "name": "python3",
      "display_name": "Python 3"
    },
    "language_info": {
      "name": "python"
    },
    "accelerator": "TPU"
  },
  "cells": [
    {
      "cell_type": "markdown",
      "metadata": {
        "id": "view-in-github",
        "colab_type": "text"
      },
      "source": [
        "<a href=\"https://colab.research.google.com/github/antonyclinton769/final-year-project/blob/main/RASA_RESTful_API.ipynb\" target=\"_parent\"><img src=\"https://colab.research.google.com/assets/colab-badge.svg\" alt=\"Open In Colab\"/></a>"
      ]
    },
    {
      "cell_type": "code",
      "metadata": {
        "id": "5y2UaWlpzNW0",
        "colab": {
          "base_uri": "https://localhost:8080/"
        },
        "outputId": "ec9fe9a5-ac83-4a63-cc87-98725e544947"
      },
      "source": [
        "#Downloading the stable build of ngrok\n",
        "!wget https://bin.equinox.io/c/4VmDzA7iaHb/ngrok-stable-linux-amd64.zip"
      ],
      "execution_count": 1,
      "outputs": [
        {
          "output_type": "stream",
          "text": [
            "--2021-06-10 08:50:22--  https://bin.equinox.io/c/4VmDzA7iaHb/ngrok-stable-linux-amd64.zip\n",
            "Resolving bin.equinox.io (bin.equinox.io)... 34.235.3.193, 54.163.62.142, 3.228.103.136, ...\n",
            "Connecting to bin.equinox.io (bin.equinox.io)|34.235.3.193|:443... connected.\n",
            "HTTP request sent, awaiting response... 200 OK\n",
            "Length: 13832437 (13M) [application/octet-stream]\n",
            "Saving to: ‘ngrok-stable-linux-amd64.zip’\n",
            "\n",
            "ngrok-stable-linux- 100%[===================>]  13.19M  26.0MB/s    in 0.5s    \n",
            "\n",
            "2021-06-10 08:50:23 (26.0 MB/s) - ‘ngrok-stable-linux-amd64.zip’ saved [13832437/13832437]\n",
            "\n"
          ],
          "name": "stdout"
        }
      ]
    },
    {
      "cell_type": "code",
      "metadata": {
        "id": "x42LpOeSU8A_",
        "colab": {
          "base_uri": "https://localhost:8080/"
        },
        "outputId": "0f31fbd5-0cd0-4cc8-fecb-3003484288d1"
      },
      "source": [
        "#Unzipping the downloaded stable build of ngrok\n",
        "!unzip -o ngrok-stable-linux-amd64.zip"
      ],
      "execution_count": 2,
      "outputs": [
        {
          "output_type": "stream",
          "text": [
            "Archive:  ngrok-stable-linux-amd64.zip\n",
            "  inflating: ngrok                   \n"
          ],
          "name": "stdout"
        }
      ]
    },
    {
      "cell_type": "code",
      "metadata": {
        "id": "RREfj-7bVw15",
        "colab": {
          "base_uri": "https://localhost:8080/"
        },
        "outputId": "da155df8-b3e2-4d07-94b6-205669359750"
      },
      "source": [
        "#Installing flask and flask_restful\n",
        "!pip install flask\n",
        "!pip install flask_restful"
      ],
      "execution_count": 3,
      "outputs": [
        {
          "output_type": "stream",
          "text": [
            "Requirement already satisfied: flask in /usr/local/lib/python3.7/dist-packages (1.1.4)\n",
            "Requirement already satisfied: click<8.0,>=5.1 in /usr/local/lib/python3.7/dist-packages (from flask) (7.1.2)\n",
            "Requirement already satisfied: Werkzeug<2.0,>=0.15 in /usr/local/lib/python3.7/dist-packages (from flask) (1.0.1)\n",
            "Requirement already satisfied: itsdangerous<2.0,>=0.24 in /usr/local/lib/python3.7/dist-packages (from flask) (1.1.0)\n",
            "Requirement already satisfied: Jinja2<3.0,>=2.10.1 in /usr/local/lib/python3.7/dist-packages (from flask) (2.11.3)\n",
            "Requirement already satisfied: MarkupSafe>=0.23 in /usr/local/lib/python3.7/dist-packages (from Jinja2<3.0,>=2.10.1->flask) (2.0.1)\n",
            "Collecting flask_restful\n",
            "  Downloading https://files.pythonhosted.org/packages/a9/02/7e21a73564fe0d9d1a3a4ff478dfc407815c4e2fa4e5121bcfc646ba5d15/Flask_RESTful-0.3.9-py2.py3-none-any.whl\n",
            "Requirement already satisfied: Flask>=0.8 in /usr/local/lib/python3.7/dist-packages (from flask_restful) (1.1.4)\n",
            "Requirement already satisfied: six>=1.3.0 in /usr/local/lib/python3.7/dist-packages (from flask_restful) (1.15.0)\n",
            "Collecting aniso8601>=0.82\n",
            "\u001b[?25l  Downloading https://files.pythonhosted.org/packages/e3/04/e97c12dc034791d7b504860acfcdd2963fa21ae61eaca1c9d31245f812c3/aniso8601-9.0.1-py2.py3-none-any.whl (52kB)\n",
            "\u001b[K     |████████████████████████████████| 61kB 3.3MB/s \n",
            "\u001b[?25hRequirement already satisfied: pytz in /usr/local/lib/python3.7/dist-packages (from flask_restful) (2018.9)\n",
            "Requirement already satisfied: Jinja2<3.0,>=2.10.1 in /usr/local/lib/python3.7/dist-packages (from Flask>=0.8->flask_restful) (2.11.3)\n",
            "Requirement already satisfied: click<8.0,>=5.1 in /usr/local/lib/python3.7/dist-packages (from Flask>=0.8->flask_restful) (7.1.2)\n",
            "Requirement already satisfied: Werkzeug<2.0,>=0.15 in /usr/local/lib/python3.7/dist-packages (from Flask>=0.8->flask_restful) (1.0.1)\n",
            "Requirement already satisfied: itsdangerous<2.0,>=0.24 in /usr/local/lib/python3.7/dist-packages (from Flask>=0.8->flask_restful) (1.1.0)\n",
            "Requirement already satisfied: MarkupSafe>=0.23 in /usr/local/lib/python3.7/dist-packages (from Jinja2<3.0,>=2.10.1->Flask>=0.8->flask_restful) (2.0.1)\n",
            "Installing collected packages: aniso8601, flask-restful\n",
            "Successfully installed aniso8601-9.0.1 flask-restful-0.3.9\n"
          ],
          "name": "stdout"
        }
      ]
    },
    {
      "cell_type": "code",
      "metadata": {
        "id": "0ligc6u3Cekm",
        "colab": {
          "base_uri": "https://localhost:8080/"
        },
        "outputId": "fc0ecdb4-6c7d-4a78-e687-8ba79edc9d7e"
      },
      "source": [
        "# To serve using production environment instead of development. (To remove the development environment warning)\n",
        "!pip install waitress"
      ],
      "execution_count": 4,
      "outputs": [
        {
          "output_type": "stream",
          "text": [
            "Collecting waitress\n",
            "\u001b[?25l  Downloading https://files.pythonhosted.org/packages/a8/cf/a9e9590023684dbf4e7861e261b0cfd6498a62396c748e661577ca720a29/waitress-2.0.0-py3-none-any.whl (56kB)\n",
            "\u001b[K     |████████████████████████████████| 61kB 1.9MB/s \n",
            "\u001b[?25hInstalling collected packages: waitress\n",
            "Successfully installed waitress-2.0.0\n"
          ],
          "name": "stdout"
        }
      ]
    },
    {
      "cell_type": "code",
      "metadata": {
        "colab": {
          "base_uri": "https://localhost:8080/"
        },
        "id": "HwXndSrnVPhO",
        "outputId": "854cbda3-3f98-45e3-f899-385097ad2a4d"
      },
      "source": [
        "!pip install -U flask-cors\n",
        "!pip install requests"
      ],
      "execution_count": 5,
      "outputs": [
        {
          "output_type": "stream",
          "text": [
            "Collecting flask-cors\n",
            "  Downloading https://files.pythonhosted.org/packages/db/84/901e700de86604b1c4ef4b57110d4e947c218b9997adf5d38fa7da493bce/Flask_Cors-3.0.10-py2.py3-none-any.whl\n",
            "Requirement already satisfied, skipping upgrade: Six in /usr/local/lib/python3.7/dist-packages (from flask-cors) (1.15.0)\n",
            "Requirement already satisfied, skipping upgrade: Flask>=0.9 in /usr/local/lib/python3.7/dist-packages (from flask-cors) (1.1.4)\n",
            "Requirement already satisfied, skipping upgrade: Werkzeug<2.0,>=0.15 in /usr/local/lib/python3.7/dist-packages (from Flask>=0.9->flask-cors) (1.0.1)\n",
            "Requirement already satisfied, skipping upgrade: itsdangerous<2.0,>=0.24 in /usr/local/lib/python3.7/dist-packages (from Flask>=0.9->flask-cors) (1.1.0)\n",
            "Requirement already satisfied, skipping upgrade: Jinja2<3.0,>=2.10.1 in /usr/local/lib/python3.7/dist-packages (from Flask>=0.9->flask-cors) (2.11.3)\n",
            "Requirement already satisfied, skipping upgrade: click<8.0,>=5.1 in /usr/local/lib/python3.7/dist-packages (from Flask>=0.9->flask-cors) (7.1.2)\n",
            "Requirement already satisfied, skipping upgrade: MarkupSafe>=0.23 in /usr/local/lib/python3.7/dist-packages (from Jinja2<3.0,>=2.10.1->Flask>=0.9->flask-cors) (2.0.1)\n",
            "Installing collected packages: flask-cors\n",
            "Successfully installed flask-cors-3.0.10\n",
            "Requirement already satisfied: requests in /usr/local/lib/python3.7/dist-packages (2.23.0)\n",
            "Requirement already satisfied: idna<3,>=2.5 in /usr/local/lib/python3.7/dist-packages (from requests) (2.10)\n",
            "Requirement already satisfied: certifi>=2017.4.17 in /usr/local/lib/python3.7/dist-packages (from requests) (2020.12.5)\n",
            "Requirement already satisfied: urllib3!=1.25.0,!=1.25.1,<1.26,>=1.21.1 in /usr/local/lib/python3.7/dist-packages (from requests) (1.24.3)\n",
            "Requirement already satisfied: chardet<4,>=3.0.2 in /usr/local/lib/python3.7/dist-packages (from requests) (3.0.4)\n"
          ],
          "name": "stdout"
        }
      ]
    },
    {
      "cell_type": "code",
      "metadata": {
        "id": "gfQMoxeDV4V5"
      },
      "source": [
        "\n",
        "# To run ngrok tunnel as a background process\n",
        "get_ipython().system_raw('./ngrok http 5000 &')"
      ],
      "execution_count": 6,
      "outputs": []
    },
    {
      "cell_type": "code",
      "metadata": {
        "colab": {
          "base_uri": "https://localhost:8080/"
        },
        "id": "RHy3MO-6V4fE",
        "outputId": "f2afa27e-3347-44cf-a923-f87a2fbfae09"
      },
      "source": [
        "\n",
        "# To get the public URL of the current ngrok instance\n",
        "! curl -s http://localhost:4040/api/tunnels | python3 -c \\\n",
        "    \"import sys, json; print(json.load(sys.stdin)['tunnels'][0]['public_url'])\""
      ],
      "execution_count": 8,
      "outputs": [
        {
          "output_type": "stream",
          "text": [
            "https://a923986d86c2.ngrok.io\n"
          ],
          "name": "stdout"
        }
      ]
    },
    {
      "cell_type": "code",
      "metadata": {
        "id": "TaJDua5KDAsr"
      },
      "source": [
        "#@title Tunnelling URLs\n",
        "website_url = \"https://yellow-earwig-47.loca.lt\" #@param {type:\"string\"}\n",
        "\n",
        "RASAserver_url = \"https://1f1f42379629.ngrok.io\" #@param {type:\"string\"}\n",
        "\n"
      ],
      "execution_count": 10,
      "outputs": []
    },
    {
      "cell_type": "code",
      "metadata": {
        "id": "KSfcKEmjV1Xk",
        "colab": {
          "base_uri": "https://localhost:8080/"
        },
        "outputId": "eda548d9-9f87-4016-9857-d6fdbb62d8b9"
      },
      "source": [
        "\n",
        "#To expose the REST API using Flask\n",
        "from flask import Flask, request\n",
        "from flask_cors import CORS, cross_origin\n",
        "\n",
        "#To represent an abstract RESTful resource & create API entry point\n",
        "from flask_restful import Resource, Api  \n",
        "\n",
        "#To serve using production environment\n",
        "from waitress import serve\n",
        "\n",
        "#To work with JSON data\n",
        "import json\n",
        "\n",
        "import requests\n",
        "\n",
        "# initialization\n",
        "app = Flask(__name__)\n",
        "app.config['CORS_HEADERS'] = 'Content-Type'\n",
        "\n",
        "cors = CORS(app, resources={r\"/requests\": {\"origins\": website_url}})\n",
        "\n",
        "@app.route('/requests', methods=['POST'])\n",
        "@cross_origin(origin=website_url,headers=['Content-Type'])\n",
        "def foo():\n",
        "    cquery = request.json['message']\n",
        "    #working checkpoint start\n",
        "    #return {\"requests\":cquery}\n",
        "    # working checkpoint end\n",
        "    param = {\"message\": cquery}\n",
        "    x = requests.post(RASAserver_url+\"/webhooks/rest/webhook\", json=param).text\n",
        "    breply = json.loads(x)[0]['text']\n",
        "    print(breply)\n",
        "    return {\"requests\":breply}\n",
        "\n",
        "#Launch the Flask API at port 5000\n",
        "if __name__ == '__main__':\n",
        "    serve(app, host=\"0.0.0.0\", port=5000)"
      ],
      "execution_count": 11,
      "outputs": [
        {
          "output_type": "stream",
          "text": [
            "WARNING:flask_cors.core:Unknown option passed to Flask-CORS: origin\n",
            "WARNING:flask_cors.core:Unknown option passed to Flask-CORS: headers\n",
            "WARNING:flask_cors.core:Unknown option passed to Flask-CORS: origin\n",
            "WARNING:flask_cors.core:Unknown option passed to Flask-CORS: headers\n"
          ],
          "name": "stderr"
        },
        {
          "output_type": "stream",
          "text": [
            "I am a bot, powered by Rasa.\n"
          ],
          "name": "stdout"
        },
        {
          "output_type": "stream",
          "text": [
            "WARNING:flask_cors.core:Unknown option passed to Flask-CORS: origin\n",
            "WARNING:flask_cors.core:Unknown option passed to Flask-CORS: headers\n",
            "WARNING:flask_cors.core:Unknown option passed to Flask-CORS: origin\n",
            "WARNING:flask_cors.core:Unknown option passed to Flask-CORS: headers\n"
          ],
          "name": "stderr"
        },
        {
          "output_type": "stream",
          "text": [
            "Bye\n"
          ],
          "name": "stdout"
        }
      ]
    }
  ]
}